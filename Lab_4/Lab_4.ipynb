{
 "cells": [
  {
   "cell_type": "code",
   "execution_count": 1,
   "id": "9193a0c2",
   "metadata": {},
   "outputs": [],
   "source": [
    "# !pip install tensorflow\n",
    "import matplotlib.pyplot as plt\n",
    "import pandas as pd\n",
    "import seaborn as sns\n",
    "from tensorflow import keras\n",
    "from sklearn.model_selection import train_test_split\n",
    "from sklearn.preprocessing import LabelEncoder\n",
    "from tensorflow.keras.layers import Dense\n",
    "from tensorflow.keras.models import Sequential\n",
    "\n",
    "from keras.utils.np_utils import to_categorical\n",
    "\n",
    "from keras.layers import Conv2D, MaxPooling2D, Flatten, Dropout\n",
    "from keras.layers.advanced_activations import LeakyReLU"
   ]
  },
  {
   "cell_type": "markdown",
   "id": "23eb731d",
   "metadata": {},
   "source": [
    "# Task 1"
   ]
  },
  {
   "cell_type": "code",
   "execution_count": 2,
   "id": "23dec5c1",
   "metadata": {},
   "outputs": [],
   "source": [
    "table = pd.read_csv('gender_classification.csv')"
   ]
  },
  {
   "cell_type": "code",
   "execution_count": 3,
   "id": "611dd6a1",
   "metadata": {},
   "outputs": [
    {
     "name": "stdout",
     "output_type": "stream",
     "text": [
      "(5001, 8)\n"
     ]
    }
   ],
   "source": [
    "print(table.shape)"
   ]
  },
  {
   "cell_type": "code",
   "execution_count": 4,
   "id": "abb6049d",
   "metadata": {},
   "outputs": [
    {
     "data": {
      "text/html": [
       "<div>\n",
       "<style scoped>\n",
       "    .dataframe tbody tr th:only-of-type {\n",
       "        vertical-align: middle;\n",
       "    }\n",
       "\n",
       "    .dataframe tbody tr th {\n",
       "        vertical-align: top;\n",
       "    }\n",
       "\n",
       "    .dataframe thead th {\n",
       "        text-align: right;\n",
       "    }\n",
       "</style>\n",
       "<table border=\"1\" class=\"dataframe\">\n",
       "  <thead>\n",
       "    <tr style=\"text-align: right;\">\n",
       "      <th></th>\n",
       "      <th>LongHair</th>\n",
       "      <th>ForeheadWidth</th>\n",
       "      <th>ForeheadHeight</th>\n",
       "      <th>NoseWide</th>\n",
       "      <th>NoseLong</th>\n",
       "      <th>LipsThin</th>\n",
       "      <th>DistanceNoseToLipLong</th>\n",
       "      <th>Gender</th>\n",
       "    </tr>\n",
       "  </thead>\n",
       "  <tbody>\n",
       "    <tr>\n",
       "      <th>count</th>\n",
       "      <td>5001.000000</td>\n",
       "      <td>5001.000000</td>\n",
       "      <td>5001.000000</td>\n",
       "      <td>5001.000000</td>\n",
       "      <td>5001.000000</td>\n",
       "      <td>5001.000000</td>\n",
       "      <td>5001.000000</td>\n",
       "      <td>5001.00000</td>\n",
       "    </tr>\n",
       "    <tr>\n",
       "      <th>mean</th>\n",
       "      <td>0.869626</td>\n",
       "      <td>13.181484</td>\n",
       "      <td>5.946311</td>\n",
       "      <td>0.493901</td>\n",
       "      <td>0.507898</td>\n",
       "      <td>0.493101</td>\n",
       "      <td>0.498900</td>\n",
       "      <td>0.50010</td>\n",
       "    </tr>\n",
       "    <tr>\n",
       "      <th>std</th>\n",
       "      <td>0.336748</td>\n",
       "      <td>1.107128</td>\n",
       "      <td>0.541268</td>\n",
       "      <td>0.500013</td>\n",
       "      <td>0.499988</td>\n",
       "      <td>0.500002</td>\n",
       "      <td>0.500049</td>\n",
       "      <td>0.50005</td>\n",
       "    </tr>\n",
       "    <tr>\n",
       "      <th>min</th>\n",
       "      <td>0.000000</td>\n",
       "      <td>11.400000</td>\n",
       "      <td>5.100000</td>\n",
       "      <td>0.000000</td>\n",
       "      <td>0.000000</td>\n",
       "      <td>0.000000</td>\n",
       "      <td>0.000000</td>\n",
       "      <td>0.00000</td>\n",
       "    </tr>\n",
       "    <tr>\n",
       "      <th>25%</th>\n",
       "      <td>1.000000</td>\n",
       "      <td>12.200000</td>\n",
       "      <td>5.500000</td>\n",
       "      <td>0.000000</td>\n",
       "      <td>0.000000</td>\n",
       "      <td>0.000000</td>\n",
       "      <td>0.000000</td>\n",
       "      <td>0.00000</td>\n",
       "    </tr>\n",
       "    <tr>\n",
       "      <th>50%</th>\n",
       "      <td>1.000000</td>\n",
       "      <td>13.100000</td>\n",
       "      <td>5.900000</td>\n",
       "      <td>0.000000</td>\n",
       "      <td>1.000000</td>\n",
       "      <td>0.000000</td>\n",
       "      <td>0.000000</td>\n",
       "      <td>1.00000</td>\n",
       "    </tr>\n",
       "    <tr>\n",
       "      <th>75%</th>\n",
       "      <td>1.000000</td>\n",
       "      <td>14.000000</td>\n",
       "      <td>6.400000</td>\n",
       "      <td>1.000000</td>\n",
       "      <td>1.000000</td>\n",
       "      <td>1.000000</td>\n",
       "      <td>1.000000</td>\n",
       "      <td>1.00000</td>\n",
       "    </tr>\n",
       "    <tr>\n",
       "      <th>max</th>\n",
       "      <td>1.000000</td>\n",
       "      <td>15.500000</td>\n",
       "      <td>7.100000</td>\n",
       "      <td>1.000000</td>\n",
       "      <td>1.000000</td>\n",
       "      <td>1.000000</td>\n",
       "      <td>1.000000</td>\n",
       "      <td>1.00000</td>\n",
       "    </tr>\n",
       "  </tbody>\n",
       "</table>\n",
       "</div>"
      ],
      "text/plain": [
       "          LongHair  ForeheadWidth  ForeheadHeight     NoseWide     NoseLong  \\\n",
       "count  5001.000000    5001.000000     5001.000000  5001.000000  5001.000000   \n",
       "mean      0.869626      13.181484        5.946311     0.493901     0.507898   \n",
       "std       0.336748       1.107128        0.541268     0.500013     0.499988   \n",
       "min       0.000000      11.400000        5.100000     0.000000     0.000000   \n",
       "25%       1.000000      12.200000        5.500000     0.000000     0.000000   \n",
       "50%       1.000000      13.100000        5.900000     0.000000     1.000000   \n",
       "75%       1.000000      14.000000        6.400000     1.000000     1.000000   \n",
       "max       1.000000      15.500000        7.100000     1.000000     1.000000   \n",
       "\n",
       "          LipsThin  DistanceNoseToLipLong      Gender  \n",
       "count  5001.000000            5001.000000  5001.00000  \n",
       "mean      0.493101               0.498900     0.50010  \n",
       "std       0.500002               0.500049     0.50005  \n",
       "min       0.000000               0.000000     0.00000  \n",
       "25%       0.000000               0.000000     0.00000  \n",
       "50%       0.000000               0.000000     1.00000  \n",
       "75%       1.000000               1.000000     1.00000  \n",
       "max       1.000000               1.000000     1.00000  "
      ]
     },
     "execution_count": 4,
     "metadata": {},
     "output_type": "execute_result"
    }
   ],
   "source": [
    "table.describe()"
   ]
  },
  {
   "cell_type": "code",
   "execution_count": 5,
   "id": "4739c355",
   "metadata": {},
   "outputs": [],
   "source": [
    "def label_encoder(x):\n",
    "    labelEncoder = LabelEncoder()\n",
    "    table[x] = labelEncoder.fit_transform(table[x])\n",
    "\n",
    "categories = ['LongHair', 'ForeheadWidth', 'ForeheadHeight', 'NoseWide', 'NoseLong','LipsThin', 'DistanceNoseToLipLong', 'Gender']\n",
    "\n",
    "for label in categories:\n",
    "    label_encoder(label)"
   ]
  },
  {
   "cell_type": "code",
   "execution_count": 6,
   "id": "a34b85f1",
   "metadata": {},
   "outputs": [
    {
     "name": "stdout",
     "output_type": "stream",
     "text": [
      "(5001, 8)\n"
     ]
    }
   ],
   "source": [
    "print(table.shape)"
   ]
  },
  {
   "cell_type": "code",
   "execution_count": 7,
   "id": "80b3669e",
   "metadata": {},
   "outputs": [
    {
     "data": {
      "text/html": [
       "<div>\n",
       "<style scoped>\n",
       "    .dataframe tbody tr th:only-of-type {\n",
       "        vertical-align: middle;\n",
       "    }\n",
       "\n",
       "    .dataframe tbody tr th {\n",
       "        vertical-align: top;\n",
       "    }\n",
       "\n",
       "    .dataframe thead th {\n",
       "        text-align: right;\n",
       "    }\n",
       "</style>\n",
       "<table border=\"1\" class=\"dataframe\">\n",
       "  <thead>\n",
       "    <tr style=\"text-align: right;\">\n",
       "      <th></th>\n",
       "      <th>LongHair</th>\n",
       "      <th>ForeheadWidth</th>\n",
       "      <th>ForeheadHeight</th>\n",
       "      <th>NoseWide</th>\n",
       "      <th>NoseLong</th>\n",
       "      <th>LipsThin</th>\n",
       "      <th>DistanceNoseToLipLong</th>\n",
       "      <th>Gender</th>\n",
       "    </tr>\n",
       "  </thead>\n",
       "  <tbody>\n",
       "    <tr>\n",
       "      <th>count</th>\n",
       "      <td>5001.000000</td>\n",
       "      <td>5001.000000</td>\n",
       "      <td>5001.000000</td>\n",
       "      <td>5001.000000</td>\n",
       "      <td>5001.000000</td>\n",
       "      <td>5001.000000</td>\n",
       "      <td>5001.000000</td>\n",
       "      <td>5001.00000</td>\n",
       "    </tr>\n",
       "    <tr>\n",
       "      <th>mean</th>\n",
       "      <td>0.869626</td>\n",
       "      <td>17.814837</td>\n",
       "      <td>8.463107</td>\n",
       "      <td>0.493901</td>\n",
       "      <td>0.507898</td>\n",
       "      <td>0.493101</td>\n",
       "      <td>0.498900</td>\n",
       "      <td>0.50010</td>\n",
       "    </tr>\n",
       "    <tr>\n",
       "      <th>std</th>\n",
       "      <td>0.336748</td>\n",
       "      <td>11.071283</td>\n",
       "      <td>5.412679</td>\n",
       "      <td>0.500013</td>\n",
       "      <td>0.499988</td>\n",
       "      <td>0.500002</td>\n",
       "      <td>0.500049</td>\n",
       "      <td>0.50005</td>\n",
       "    </tr>\n",
       "    <tr>\n",
       "      <th>min</th>\n",
       "      <td>0.000000</td>\n",
       "      <td>0.000000</td>\n",
       "      <td>0.000000</td>\n",
       "      <td>0.000000</td>\n",
       "      <td>0.000000</td>\n",
       "      <td>0.000000</td>\n",
       "      <td>0.000000</td>\n",
       "      <td>0.00000</td>\n",
       "    </tr>\n",
       "    <tr>\n",
       "      <th>25%</th>\n",
       "      <td>1.000000</td>\n",
       "      <td>8.000000</td>\n",
       "      <td>4.000000</td>\n",
       "      <td>0.000000</td>\n",
       "      <td>0.000000</td>\n",
       "      <td>0.000000</td>\n",
       "      <td>0.000000</td>\n",
       "      <td>0.00000</td>\n",
       "    </tr>\n",
       "    <tr>\n",
       "      <th>50%</th>\n",
       "      <td>1.000000</td>\n",
       "      <td>17.000000</td>\n",
       "      <td>8.000000</td>\n",
       "      <td>0.000000</td>\n",
       "      <td>1.000000</td>\n",
       "      <td>0.000000</td>\n",
       "      <td>0.000000</td>\n",
       "      <td>1.00000</td>\n",
       "    </tr>\n",
       "    <tr>\n",
       "      <th>75%</th>\n",
       "      <td>1.000000</td>\n",
       "      <td>26.000000</td>\n",
       "      <td>13.000000</td>\n",
       "      <td>1.000000</td>\n",
       "      <td>1.000000</td>\n",
       "      <td>1.000000</td>\n",
       "      <td>1.000000</td>\n",
       "      <td>1.00000</td>\n",
       "    </tr>\n",
       "    <tr>\n",
       "      <th>max</th>\n",
       "      <td>1.000000</td>\n",
       "      <td>41.000000</td>\n",
       "      <td>20.000000</td>\n",
       "      <td>1.000000</td>\n",
       "      <td>1.000000</td>\n",
       "      <td>1.000000</td>\n",
       "      <td>1.000000</td>\n",
       "      <td>1.00000</td>\n",
       "    </tr>\n",
       "  </tbody>\n",
       "</table>\n",
       "</div>"
      ],
      "text/plain": [
       "          LongHair  ForeheadWidth  ForeheadHeight     NoseWide     NoseLong  \\\n",
       "count  5001.000000    5001.000000     5001.000000  5001.000000  5001.000000   \n",
       "mean      0.869626      17.814837        8.463107     0.493901     0.507898   \n",
       "std       0.336748      11.071283        5.412679     0.500013     0.499988   \n",
       "min       0.000000       0.000000        0.000000     0.000000     0.000000   \n",
       "25%       1.000000       8.000000        4.000000     0.000000     0.000000   \n",
       "50%       1.000000      17.000000        8.000000     0.000000     1.000000   \n",
       "75%       1.000000      26.000000       13.000000     1.000000     1.000000   \n",
       "max       1.000000      41.000000       20.000000     1.000000     1.000000   \n",
       "\n",
       "          LipsThin  DistanceNoseToLipLong      Gender  \n",
       "count  5001.000000            5001.000000  5001.00000  \n",
       "mean      0.493101               0.498900     0.50010  \n",
       "std       0.500002               0.500049     0.50005  \n",
       "min       0.000000               0.000000     0.00000  \n",
       "25%       0.000000               0.000000     0.00000  \n",
       "50%       0.000000               0.000000     1.00000  \n",
       "75%       1.000000               1.000000     1.00000  \n",
       "max       1.000000               1.000000     1.00000  "
      ]
     },
     "execution_count": 7,
     "metadata": {},
     "output_type": "execute_result"
    }
   ],
   "source": [
    "table.describe()"
   ]
  },
  {
   "cell_type": "code",
   "execution_count": 8,
   "id": "da7f99b1",
   "metadata": {},
   "outputs": [],
   "source": [
    "X = table.drop('Gender', axis = 1)\n",
    "Y = table['Gender']\n",
    "\n",
    "X_train, X_test, Y_train, Y_test = train_test_split(X, Y, test_size = 0.30, random_state = 40)"
   ]
  },
  {
   "cell_type": "code",
   "execution_count": 9,
   "id": "7d35ad18",
   "metadata": {},
   "outputs": [],
   "source": [
    "Y_train = to_categorical(Y_train)\n",
    "Y_test = to_categorical(Y_test)"
   ]
  },
  {
   "cell_type": "code",
   "execution_count": 10,
   "id": "2d836c26",
   "metadata": {},
   "outputs": [],
   "source": [
    "amount_of_classes = Y_test.shape[1]"
   ]
  },
  {
   "cell_type": "code",
   "execution_count": 11,
   "id": "3665d6c7",
   "metadata": {},
   "outputs": [
    {
     "name": "stdout",
     "output_type": "stream",
     "text": [
      "2\n"
     ]
    }
   ],
   "source": [
    "print(amount_of_classes)"
   ]
  },
  {
   "cell_type": "code",
   "execution_count": 12,
   "id": "a1896a63",
   "metadata": {},
   "outputs": [],
   "source": [
    "model = Sequential()\n",
    "model.add(Dense(80, activation = 'relu', input_dim = 7))\n",
    "model.add(Dense(40, activation = 'relu'))\n",
    "model.add(Dense(20, activation = 'relu'))\n",
    "model.add(Dense(2, activation = 'softmax'))"
   ]
  },
  {
   "cell_type": "code",
   "execution_count": 13,
   "id": "df35d017",
   "metadata": {},
   "outputs": [],
   "source": [
    "model.compile(optimizer = 'adam', loss = 'categorical_crossentropy', metrics = ['accuracy'])"
   ]
  },
  {
   "cell_type": "code",
   "execution_count": 14,
   "id": "e08cb716",
   "metadata": {},
   "outputs": [
    {
     "name": "stdout",
     "output_type": "stream",
     "text": [
      "Epoch 1/100\n",
      "110/110 [==============================] - 1s 3ms/step - loss: 0.5789 - accuracy: 0.6889\n",
      "Epoch 2/100\n",
      "110/110 [==============================] - 0s 3ms/step - loss: 0.1819 - accuracy: 0.9446\n",
      "Epoch 3/100\n",
      "110/110 [==============================] - 0s 3ms/step - loss: 0.1088 - accuracy: 0.9551\n",
      "Epoch 4/100\n",
      "110/110 [==============================] - 0s 3ms/step - loss: 0.0980 - accuracy: 0.9611\n",
      "Epoch 5/100\n",
      "110/110 [==============================] - 0s 3ms/step - loss: 0.0886 - accuracy: 0.9669\n",
      "Epoch 6/100\n",
      "110/110 [==============================] - 0s 3ms/step - loss: 0.0827 - accuracy: 0.9689\n",
      "Epoch 7/100\n",
      "110/110 [==============================] - 0s 3ms/step - loss: 0.0809 - accuracy: 0.9657\n",
      "Epoch 8/100\n",
      "110/110 [==============================] - 0s 3ms/step - loss: 0.0815 - accuracy: 0.9671\n",
      "Epoch 9/100\n",
      "110/110 [==============================] - 0s 3ms/step - loss: 0.0748 - accuracy: 0.9680\n",
      "Epoch 10/100\n",
      "110/110 [==============================] - 0s 3ms/step - loss: 0.0712 - accuracy: 0.9686\n",
      "Epoch 11/100\n",
      "110/110 [==============================] - 0s 3ms/step - loss: 0.0774 - accuracy: 0.9703\n",
      "Epoch 12/100\n",
      "110/110 [==============================] - 0s 3ms/step - loss: 0.0704 - accuracy: 0.9703\n",
      "Epoch 13/100\n",
      "110/110 [==============================] - 0s 3ms/step - loss: 0.0713 - accuracy: 0.9706\n",
      "Epoch 14/100\n",
      "110/110 [==============================] - 0s 3ms/step - loss: 0.0762 - accuracy: 0.9706\n",
      "Epoch 15/100\n",
      "110/110 [==============================] - 0s 3ms/step - loss: 0.0784 - accuracy: 0.9674\n",
      "Epoch 16/100\n",
      "110/110 [==============================] - 0s 3ms/step - loss: 0.0681 - accuracy: 0.9729\n",
      "Epoch 17/100\n",
      "110/110 [==============================] - 0s 3ms/step - loss: 0.0669 - accuracy: 0.9740\n",
      "Epoch 18/100\n",
      "110/110 [==============================] - 0s 3ms/step - loss: 0.0674 - accuracy: 0.9723\n",
      "Epoch 19/100\n",
      "110/110 [==============================] - 0s 3ms/step - loss: 0.0638 - accuracy: 0.9743\n",
      "Epoch 20/100\n",
      "110/110 [==============================] - 0s 4ms/step - loss: 0.0619 - accuracy: 0.9760\n",
      "Epoch 21/100\n",
      "110/110 [==============================] - 0s 4ms/step - loss: 0.0616 - accuracy: 0.9746\n",
      "Epoch 22/100\n",
      "110/110 [==============================] - 0s 3ms/step - loss: 0.0623 - accuracy: 0.9740\n",
      "Epoch 23/100\n",
      "110/110 [==============================] - 0s 3ms/step - loss: 0.0637 - accuracy: 0.9723\n",
      "Epoch 24/100\n",
      "110/110 [==============================] - 0s 3ms/step - loss: 0.0631 - accuracy: 0.9757\n",
      "Epoch 25/100\n",
      "110/110 [==============================] - 0s 3ms/step - loss: 0.0666 - accuracy: 0.9717\n",
      "Epoch 26/100\n",
      "110/110 [==============================] - 0s 3ms/step - loss: 0.0692 - accuracy: 0.9726\n",
      "Epoch 27/100\n",
      "110/110 [==============================] - 0s 3ms/step - loss: 0.0620 - accuracy: 0.9743\n",
      "Epoch 28/100\n",
      "110/110 [==============================] - 0s 3ms/step - loss: 0.0635 - accuracy: 0.9723\n",
      "Epoch 29/100\n",
      "110/110 [==============================] - 0s 3ms/step - loss: 0.0648 - accuracy: 0.9734\n",
      "Epoch 30/100\n",
      "110/110 [==============================] - 0s 3ms/step - loss: 0.0629 - accuracy: 0.9726\n",
      "Epoch 31/100\n",
      "110/110 [==============================] - 0s 3ms/step - loss: 0.0619 - accuracy: 0.9740\n",
      "Epoch 32/100\n",
      "110/110 [==============================] - 0s 3ms/step - loss: 0.0606 - accuracy: 0.9763\n",
      "Epoch 33/100\n",
      "110/110 [==============================] - 0s 3ms/step - loss: 0.0618 - accuracy: 0.9754\n",
      "Epoch 34/100\n",
      "110/110 [==============================] - 0s 3ms/step - loss: 0.0605 - accuracy: 0.9731\n",
      "Epoch 35/100\n",
      "110/110 [==============================] - 0s 3ms/step - loss: 0.0583 - accuracy: 0.9769\n",
      "Epoch 36/100\n",
      "110/110 [==============================] - 0s 3ms/step - loss: 0.0566 - accuracy: 0.9766\n",
      "Epoch 37/100\n",
      "110/110 [==============================] - 0s 3ms/step - loss: 0.0708 - accuracy: 0.9717\n",
      "Epoch 38/100\n",
      "110/110 [==============================] - 0s 3ms/step - loss: 0.0578 - accuracy: 0.9760\n",
      "Epoch 39/100\n",
      "110/110 [==============================] - 0s 3ms/step - loss: 0.0600 - accuracy: 0.9766\n",
      "Epoch 40/100\n",
      "110/110 [==============================] - 0s 3ms/step - loss: 0.0559 - accuracy: 0.9774\n",
      "Epoch 41/100\n",
      "110/110 [==============================] - 0s 3ms/step - loss: 0.0595 - accuracy: 0.9757\n",
      "Epoch 42/100\n",
      "110/110 [==============================] - 0s 3ms/step - loss: 0.0554 - accuracy: 0.9786\n",
      "Epoch 43/100\n",
      "110/110 [==============================] - 0s 3ms/step - loss: 0.0612 - accuracy: 0.9780\n",
      "Epoch 44/100\n",
      "110/110 [==============================] - 0s 3ms/step - loss: 0.0589 - accuracy: 0.9766\n",
      "Epoch 45/100\n",
      "110/110 [==============================] - 0s 3ms/step - loss: 0.0550 - accuracy: 0.9771\n",
      "Epoch 46/100\n",
      "110/110 [==============================] - 0s 3ms/step - loss: 0.0609 - accuracy: 0.9743\n",
      "Epoch 47/100\n",
      "110/110 [==============================] - 0s 3ms/step - loss: 0.0552 - accuracy: 0.9766\n",
      "Epoch 48/100\n",
      "110/110 [==============================] - 0s 4ms/step - loss: 0.0588 - accuracy: 0.9731\n",
      "Epoch 49/100\n",
      "110/110 [==============================] - 0s 3ms/step - loss: 0.0579 - accuracy: 0.9771\n",
      "Epoch 50/100\n",
      "110/110 [==============================] - 0s 3ms/step - loss: 0.0601 - accuracy: 0.9754\n",
      "Epoch 51/100\n",
      "110/110 [==============================] - 0s 3ms/step - loss: 0.0543 - accuracy: 0.9777\n",
      "Epoch 52/100\n",
      "110/110 [==============================] - 0s 4ms/step - loss: 0.0552 - accuracy: 0.9786\n",
      "Epoch 53/100\n",
      "110/110 [==============================] - 0s 4ms/step - loss: 0.0531 - accuracy: 0.9791\n",
      "Epoch 54/100\n",
      "110/110 [==============================] - 0s 4ms/step - loss: 0.0538 - accuracy: 0.9800\n",
      "Epoch 55/100\n",
      "110/110 [==============================] - 0s 4ms/step - loss: 0.0566 - accuracy: 0.9754\n",
      "Epoch 56/100\n",
      "110/110 [==============================] - 0s 4ms/step - loss: 0.0560 - accuracy: 0.9777\n",
      "Epoch 57/100\n",
      "110/110 [==============================] - 0s 3ms/step - loss: 0.0555 - accuracy: 0.9760\n",
      "Epoch 58/100\n",
      "110/110 [==============================] - 0s 3ms/step - loss: 0.0551 - accuracy: 0.9777\n",
      "Epoch 59/100\n",
      "110/110 [==============================] - 0s 3ms/step - loss: 0.0588 - accuracy: 0.9769\n",
      "Epoch 60/100\n",
      "110/110 [==============================] - 0s 3ms/step - loss: 0.0551 - accuracy: 0.9791\n",
      "Epoch 61/100\n",
      "110/110 [==============================] - 0s 3ms/step - loss: 0.0551 - accuracy: 0.9786\n",
      "Epoch 62/100\n",
      "110/110 [==============================] - 0s 3ms/step - loss: 0.0559 - accuracy: 0.9791\n",
      "Epoch 63/100\n",
      "110/110 [==============================] - 0s 3ms/step - loss: 0.0550 - accuracy: 0.9771\n",
      "Epoch 64/100\n",
      "110/110 [==============================] - 0s 3ms/step - loss: 0.0556 - accuracy: 0.9769\n",
      "Epoch 65/100\n",
      "110/110 [==============================] - 0s 3ms/step - loss: 0.0517 - accuracy: 0.9789\n",
      "Epoch 66/100\n",
      "110/110 [==============================] - 0s 3ms/step - loss: 0.0532 - accuracy: 0.9789\n",
      "Epoch 67/100\n",
      "110/110 [==============================] - 0s 3ms/step - loss: 0.0535 - accuracy: 0.9800\n",
      "Epoch 68/100\n",
      "110/110 [==============================] - 0s 3ms/step - loss: 0.0553 - accuracy: 0.9783\n",
      "Epoch 69/100\n",
      "110/110 [==============================] - 0s 3ms/step - loss: 0.0525 - accuracy: 0.9789\n",
      "Epoch 70/100\n",
      "110/110 [==============================] - 0s 3ms/step - loss: 0.0512 - accuracy: 0.9803\n",
      "Epoch 71/100\n",
      "110/110 [==============================] - 0s 3ms/step - loss: 0.0521 - accuracy: 0.9791\n",
      "Epoch 72/100\n",
      "110/110 [==============================] - 0s 3ms/step - loss: 0.0512 - accuracy: 0.9789\n",
      "Epoch 73/100\n",
      "110/110 [==============================] - 0s 3ms/step - loss: 0.0593 - accuracy: 0.9751\n",
      "Epoch 74/100\n",
      "110/110 [==============================] - 0s 3ms/step - loss: 0.0519 - accuracy: 0.9791\n",
      "Epoch 75/100\n",
      "110/110 [==============================] - 0s 3ms/step - loss: 0.0521 - accuracy: 0.9800\n",
      "Epoch 76/100\n",
      "110/110 [==============================] - 0s 3ms/step - loss: 0.0506 - accuracy: 0.9786\n",
      "Epoch 77/100\n",
      "110/110 [==============================] - 0s 3ms/step - loss: 0.0544 - accuracy: 0.9797\n",
      "Epoch 78/100\n",
      "110/110 [==============================] - 0s 4ms/step - loss: 0.0522 - accuracy: 0.9786\n",
      "Epoch 79/100\n",
      "110/110 [==============================] - 0s 3ms/step - loss: 0.0508 - accuracy: 0.9783\n",
      "Epoch 80/100\n",
      "110/110 [==============================] - 0s 3ms/step - loss: 0.0553 - accuracy: 0.9771\n",
      "Epoch 81/100\n"
     ]
    },
    {
     "name": "stdout",
     "output_type": "stream",
     "text": [
      "110/110 [==============================] - 0s 3ms/step - loss: 0.0536 - accuracy: 0.9794\n",
      "Epoch 82/100\n",
      "110/110 [==============================] - 0s 3ms/step - loss: 0.0518 - accuracy: 0.9786\n",
      "Epoch 83/100\n",
      "110/110 [==============================] - 0s 3ms/step - loss: 0.0525 - accuracy: 0.9803\n",
      "Epoch 84/100\n",
      "110/110 [==============================] - 0s 3ms/step - loss: 0.0484 - accuracy: 0.9809\n",
      "Epoch 85/100\n",
      "110/110 [==============================] - 0s 3ms/step - loss: 0.0511 - accuracy: 0.9786\n",
      "Epoch 86/100\n",
      "110/110 [==============================] - 0s 3ms/step - loss: 0.0489 - accuracy: 0.9831\n",
      "Epoch 87/100\n",
      "110/110 [==============================] - 0s 3ms/step - loss: 0.0482 - accuracy: 0.9791\n",
      "Epoch 88/100\n",
      "110/110 [==============================] - 0s 3ms/step - loss: 0.0485 - accuracy: 0.9800\n",
      "Epoch 89/100\n",
      "110/110 [==============================] - 0s 3ms/step - loss: 0.0531 - accuracy: 0.9794\n",
      "Epoch 90/100\n",
      "110/110 [==============================] - 0s 3ms/step - loss: 0.0485 - accuracy: 0.9826\n",
      "Epoch 91/100\n",
      "110/110 [==============================] - 0s 3ms/step - loss: 0.0525 - accuracy: 0.9791\n",
      "Epoch 92/100\n",
      "110/110 [==============================] - 0s 3ms/step - loss: 0.0553 - accuracy: 0.9763\n",
      "Epoch 93/100\n",
      "110/110 [==============================] - 0s 3ms/step - loss: 0.0491 - accuracy: 0.9809\n",
      "Epoch 94/100\n",
      "110/110 [==============================] - 0s 3ms/step - loss: 0.0493 - accuracy: 0.9814\n",
      "Epoch 95/100\n",
      "110/110 [==============================] - 0s 3ms/step - loss: 0.0522 - accuracy: 0.9800\n",
      "Epoch 96/100\n",
      "110/110 [==============================] - 0s 3ms/step - loss: 0.0541 - accuracy: 0.9797\n",
      "Epoch 97/100\n",
      "110/110 [==============================] - 0s 3ms/step - loss: 0.0480 - accuracy: 0.9794\n",
      "Epoch 98/100\n",
      "110/110 [==============================] - 0s 3ms/step - loss: 0.0471 - accuracy: 0.9826\n",
      "Epoch 99/100\n",
      "110/110 [==============================] - 0s 3ms/step - loss: 0.0469 - accuracy: 0.9817\n",
      "Epoch 100/100\n",
      "110/110 [==============================] - 0s 3ms/step - loss: 0.0476 - accuracy: 0.9817\n"
     ]
    },
    {
     "data": {
      "text/plain": [
       "<keras.callbacks.History at 0x1bfaf224790>"
      ]
     },
     "execution_count": 14,
     "metadata": {},
     "output_type": "execute_result"
    }
   ],
   "source": [
    "model.fit(X_train, Y_train, epochs = 100)"
   ]
  },
  {
   "cell_type": "markdown",
   "id": "92dccac6",
   "metadata": {},
   "source": [
    "# Task 2"
   ]
  },
  {
   "cell_type": "code",
   "execution_count": 15,
   "id": "d051d9b1",
   "metadata": {},
   "outputs": [],
   "source": [
    "(train_features, train_labels), (test_features, test_labels) = keras.datasets.cifar100.load_data()"
   ]
  },
  {
   "cell_type": "code",
   "execution_count": 16,
   "id": "360a86d9",
   "metadata": {},
   "outputs": [
    {
     "name": "stdout",
     "output_type": "stream",
     "text": [
      "(50000, 32, 32, 3)\n",
      "(10000, 32, 32, 3)\n"
     ]
    }
   ],
   "source": [
    "print(train_features.shape)\n",
    "print(test_features.shape)"
   ]
  },
  {
   "cell_type": "code",
   "execution_count": 17,
   "id": "b96230c8",
   "metadata": {},
   "outputs": [],
   "source": [
    "train_features = train_features.astype('float32') / 255\n",
    "test_features = test_features.astype('float32') / 255"
   ]
  },
  {
   "cell_type": "code",
   "execution_count": 18,
   "id": "edec079c",
   "metadata": {},
   "outputs": [],
   "source": [
    "train_labels = keras.utils.to_categorical(train_labels)\n",
    "test_labels = keras.utils.to_categorical(test_labels)"
   ]
  },
  {
   "cell_type": "code",
   "execution_count": 19,
   "id": "67eb1047",
   "metadata": {},
   "outputs": [
    {
     "data": {
      "image/png": "[encoded data removed]",
      "text/plain": [
       "<Figure size 1440x288 with 10 Axes>"
      ]
     },
     "metadata": {
      "needs_background": "light"
     },
     "output_type": "display_data"
    }
   ],
   "source": [
    "n = 10\n",
    "plt.figure(figsize = (20, 4))\n",
    "for i in range(n):\n",
    "    ax = plt.subplot(2, n, i + 1)\n",
    "    plt.imshow(train_features[i])\n",
    "    plt.gray()\n",
    "    ax.get_xaxis().set_visible(False)\n",
    "    ax.get_yaxis().set_visible(False)\n",
    "\n",
    "plt.show()"
   ]
  },
  {
   "cell_type": "code",
   "execution_count": 20,
   "id": "f2ac045c",
   "metadata": {},
   "outputs": [],
   "source": [
    "model = Sequential()\n",
    "\n",
    "model.add(Conv2D(32, (3, 3), input_shape = train_features.shape[1:], padding = 'same'))\n",
    "model.add(LeakyReLU(alpha = 0.1))\n",
    "model.add(MaxPooling2D(pool_size = (2, 2), padding = 'same'))\n",
    "model.add(Dropout(0.2))\n",
    "\n",
    "model.add(Conv2D(64, (3, 3), padding = 'same'))\n",
    "model.add(LeakyReLU(alpha = 0.1))\n",
    "model.add(MaxPooling2D(pool_size = (2, 2), padding = 'same'))\n",
    "model.add(Dropout(0.2))\n",
    "\n",
    "model.add(Conv2D(128, (3, 3), padding = 'same'))\n",
    "model.add(LeakyReLU(alpha = 0.1))\n",
    "model.add(MaxPooling2D(pool_size = (2, 2), padding = 'same'))\n",
    "model.add(Dropout(0.2))\n",
    "\n",
    "model.add(Flatten())\n",
    "model.add(Dense(128))\n",
    "model.add(LeakyReLU(alpha = 0.1))\n",
    "model.add(Dense(100, activation = 'softmax'))"
   ]
  },
  {
   "cell_type": "code",
   "execution_count": 21,
   "id": "eb57c875",
   "metadata": {},
   "outputs": [],
   "source": [
    "model.compile(loss = 'binary_crossentropy', optimizer = \"adam\", metrics = ['accuracy'])"
   ]
  },
  {
   "cell_type": "code",
   "execution_count": 22,
   "id": "1764ec3a",
   "metadata": {},
   "outputs": [
    {
     "name": "stdout",
     "output_type": "stream",
     "text": [
      "Epoch 1/20\n",
      "782/782 [==============================] - 79s 100ms/step - loss: 0.0575 - accuracy: 0.0555 - val_loss: 0.0501 - val_accuracy: 0.1435\n",
      "Epoch 2/20\n",
      "782/782 [==============================] - 77s 98ms/step - loss: 0.0452 - accuracy: 0.1719 - val_loss: 0.0430 - val_accuracy: 0.2340\n",
      "Epoch 3/20\n",
      "782/782 [==============================] - 77s 98ms/step - loss: 0.0411 - accuracy: 0.2435 - val_loss: 0.0393 - val_accuracy: 0.2884\n",
      "Epoch 4/20\n",
      "782/782 [==============================] - 75s 96ms/step - loss: 0.0381 - accuracy: 0.2991 - val_loss: 0.0369 - val_accuracy: 0.3275\n",
      "Epoch 5/20\n",
      "782/782 [==============================] - 76s 97ms/step - loss: 0.0357 - accuracy: 0.3469 - val_loss: 0.0347 - val_accuracy: 0.3681\n",
      "Epoch 6/20\n",
      "782/782 [==============================] - 54s 69ms/step - loss: 0.0337 - accuracy: 0.3842 - val_loss: 0.0335 - val_accuracy: 0.3909\n",
      "Epoch 7/20\n",
      "782/782 [==============================] - 46s 59ms/step - loss: 0.0320 - accuracy: 0.4193 - val_loss: 0.0334 - val_accuracy: 0.3893\n",
      "Epoch 8/20\n",
      "782/782 [==============================] - 45s 58ms/step - loss: 0.0305 - accuracy: 0.4445 - val_loss: 0.0317 - val_accuracy: 0.4287\n",
      "Epoch 9/20\n",
      "782/782 [==============================] - 45s 58ms/step - loss: 0.0292 - accuracy: 0.4740 - val_loss: 0.0311 - val_accuracy: 0.4409\n",
      "Epoch 10/20\n",
      "782/782 [==============================] - 45s 58ms/step - loss: 0.0282 - accuracy: 0.4940 - val_loss: 0.0309 - val_accuracy: 0.4474\n",
      "Epoch 11/20\n",
      "782/782 [==============================] - 45s 58ms/step - loss: 0.0272 - accuracy: 0.5130 - val_loss: 0.0304 - val_accuracy: 0.4594\n",
      "Epoch 12/20\n",
      "782/782 [==============================] - 45s 58ms/step - loss: 0.0264 - accuracy: 0.5300 - val_loss: 0.0304 - val_accuracy: 0.4656\n",
      "Epoch 13/20\n",
      "782/782 [==============================] - 45s 58ms/step - loss: 0.0255 - accuracy: 0.5479 - val_loss: 0.0301 - val_accuracy: 0.4700\n",
      "Epoch 14/20\n",
      "782/782 [==============================] - 42s 54ms/step - loss: 0.0248 - accuracy: 0.5598 - val_loss: 0.0296 - val_accuracy: 0.4770\n",
      "Epoch 15/20\n",
      "782/782 [==============================] - 35s 45ms/step - loss: 0.0241 - accuracy: 0.5744 - val_loss: 0.0302 - val_accuracy: 0.4785\n",
      "Epoch 16/20\n",
      "782/782 [==============================] - 34s 43ms/step - loss: 0.0236 - accuracy: 0.5858 - val_loss: 0.0311 - val_accuracy: 0.4648\n",
      "Epoch 17/20\n",
      "782/782 [==============================] - 35s 44ms/step - loss: 0.0230 - accuracy: 0.5972 - val_loss: 0.0308 - val_accuracy: 0.4714\n",
      "Epoch 18/20\n",
      "782/782 [==============================] - 34s 44ms/step - loss: 0.0225 - accuracy: 0.6048 - val_loss: 0.0303 - val_accuracy: 0.4818\n",
      "Epoch 19/20\n",
      "782/782 [==============================] - 34s 44ms/step - loss: 0.0221 - accuracy: 0.6152 - val_loss: 0.0306 - val_accuracy: 0.4785\n",
      "Epoch 20/20\n",
      "782/782 [==============================] - 34s 44ms/step - loss: 0.0218 - accuracy: 0.6221 - val_loss: 0.0312 - val_accuracy: 0.4718\n"
     ]
    },
    {
     "data": {
      "text/plain": [
       "<keras.callbacks.History at 0x1bfb97122e0>"
      ]
     },
     "execution_count": 22,
     "metadata": {},
     "output_type": "execute_result"
    }
   ],
   "source": [
    "model.fit(train_features, train_labels, validation_data = (test_features, test_labels), batch_size = 64, epochs = 20)"
   ]
  },
  {
   "cell_type": "code",
   "execution_count": 23,
   "id": "6ec9b027",
   "metadata": {},
   "outputs": [
    {
     "name": "stdout",
     "output_type": "stream",
     "text": [
      "Model: \"sequential_1\"\n",
      "_________________________________________________________________\n",
      " Layer (type)                Output Shape              Param #   \n",
      "=================================================================\n",
      " conv2d (Conv2D)             (None, 32, 32, 32)        896       \n",
      "                                                                 \n",
      " leaky_re_lu (LeakyReLU)     (None, 32, 32, 32)        0         \n",
      "                                                                 \n",
      " max_pooling2d (MaxPooling2D  (None, 16, 16, 32)       0         \n",
      " )                                                               \n",
      "                                                                 \n",
      " dropout (Dropout)           (None, 16, 16, 32)        0         \n",
      "                                                                 \n",
      " conv2d_1 (Conv2D)           (None, 16, 16, 64)        18496     \n",
      "                                                                 \n",
      " leaky_re_lu_1 (LeakyReLU)   (None, 16, 16, 64)        0         \n",
      "                                                                 \n",
      " max_pooling2d_1 (MaxPooling  (None, 8, 8, 64)         0         \n",
      " 2D)                                                             \n",
      "                                                                 \n",
      " dropout_1 (Dropout)         (None, 8, 8, 64)          0         \n",
      "                                                                 \n",
      " conv2d_2 (Conv2D)           (None, 8, 8, 128)         73856     \n",
      "                                                                 \n",
      " leaky_re_lu_2 (LeakyReLU)   (None, 8, 8, 128)         0         \n",
      "                                                                 \n",
      " max_pooling2d_2 (MaxPooling  (None, 4, 4, 128)        0         \n",
      " 2D)                                                             \n",
      "                                                                 \n",
      " dropout_2 (Dropout)         (None, 4, 4, 128)         0         \n",
      "                                                                 \n",
      " flatten (Flatten)           (None, 2048)              0         \n",
      "                                                                 \n",
      " dense_4 (Dense)             (None, 128)               262272    \n",
      "                                                                 \n",
      " leaky_re_lu_3 (LeakyReLU)   (None, 128)               0         \n",
      "                                                                 \n",
      " dense_5 (Dense)             (None, 100)               12900     \n",
      "                                                                 \n",
      "=================================================================\n",
      "Total params: 368,420\n",
      "Trainable params: 368,420\n",
      "Non-trainable params: 0\n",
      "_________________________________________________________________\n"
     ]
    }
   ],
   "source": [
    "model.summary()"
   ]
  },
  {
   "cell_type": "code",
   "execution_count": 24,
   "id": "72cf3208",
   "metadata": {},
   "outputs": [
    {
     "name": "stdout",
     "output_type": "stream",
     "text": [
      "Accuracy: 0.4717999994754791\n"
     ]
    }
   ],
   "source": [
    "scores = model.evaluate(test_features, test_labels, verbose=0)\n",
    "print(f'Accuracy: {scores[1]}')"
   ]
  },
  {
   "cell_type": "code",
   "execution_count": 25,
   "id": "4173e363",
   "metadata": {},
   "outputs": [
    {
     "name": "stdout",
     "output_type": "stream",
     "text": [
      "Loss: 0.031245531514286995\n"
     ]
    }
   ],
   "source": [
    "print(f'Loss: {scores[0]}')"
   ]
  },
  {
   "cell_type": "markdown",
   "id": "70d1fd6e",
   "metadata": {},
   "source": [
    "# Task 3"
   ]
  },
  {
   "cell_type": "code",
   "execution_count": 26,
   "id": "e24c0aaf",
   "metadata": {},
   "outputs": [],
   "source": [
    "textData = pd.read_csv(\"task_3_data.csv\")"
   ]
  },
  {
   "cell_type": "code",
   "execution_count": 27,
   "id": "06db99af",
   "metadata": {},
   "outputs": [
    {
     "data": {
      "text/html": [
       "<div>\n",
       "<style scoped>\n",
       "    .dataframe tbody tr th:only-of-type {\n",
       "        vertical-align: middle;\n",
       "    }\n",
       "\n",
       "    .dataframe tbody tr th {\n",
       "        vertical-align: top;\n",
       "    }\n",
       "\n",
       "    .dataframe thead th {\n",
       "        text-align: right;\n",
       "    }\n",
       "</style>\n",
       "<table border=\"1\" class=\"dataframe\">\n",
       "  <thead>\n",
       "    <tr style=\"text-align: right;\">\n",
       "      <th></th>\n",
       "      <th>Date</th>\n",
       "      <th>Open</th>\n",
       "      <th>High</th>\n",
       "      <th>Low</th>\n",
       "      <th>Close</th>\n",
       "      <th>Volume</th>\n",
       "      <th>Name</th>\n",
       "    </tr>\n",
       "  </thead>\n",
       "  <tbody>\n",
       "    <tr>\n",
       "      <th>0</th>\n",
       "      <td>2006-01-03</td>\n",
       "      <td>10.34</td>\n",
       "      <td>10.68</td>\n",
       "      <td>10.32</td>\n",
       "      <td>10.68</td>\n",
       "      <td>201853036</td>\n",
       "      <td>AAPL</td>\n",
       "    </tr>\n",
       "    <tr>\n",
       "      <th>1</th>\n",
       "      <td>2006-01-04</td>\n",
       "      <td>10.73</td>\n",
       "      <td>10.85</td>\n",
       "      <td>10.64</td>\n",
       "      <td>10.71</td>\n",
       "      <td>155225609</td>\n",
       "      <td>AAPL</td>\n",
       "    </tr>\n",
       "    <tr>\n",
       "      <th>2</th>\n",
       "      <td>2006-01-05</td>\n",
       "      <td>10.69</td>\n",
       "      <td>10.70</td>\n",
       "      <td>10.54</td>\n",
       "      <td>10.63</td>\n",
       "      <td>112396081</td>\n",
       "      <td>AAPL</td>\n",
       "    </tr>\n",
       "    <tr>\n",
       "      <th>3</th>\n",
       "      <td>2006-01-06</td>\n",
       "      <td>10.75</td>\n",
       "      <td>10.96</td>\n",
       "      <td>10.65</td>\n",
       "      <td>10.90</td>\n",
       "      <td>176139334</td>\n",
       "      <td>AAPL</td>\n",
       "    </tr>\n",
       "    <tr>\n",
       "      <th>4</th>\n",
       "      <td>2006-01-09</td>\n",
       "      <td>10.96</td>\n",
       "      <td>11.03</td>\n",
       "      <td>10.82</td>\n",
       "      <td>10.86</td>\n",
       "      <td>168861224</td>\n",
       "      <td>AAPL</td>\n",
       "    </tr>\n",
       "  </tbody>\n",
       "</table>\n",
       "</div>"
      ],
      "text/plain": [
       "         Date   Open   High    Low  Close     Volume  Name\n",
       "0  2006-01-03  10.34  10.68  10.32  10.68  201853036  AAPL\n",
       "1  2006-01-04  10.73  10.85  10.64  10.71  155225609  AAPL\n",
       "2  2006-01-05  10.69  10.70  10.54  10.63  112396081  AAPL\n",
       "3  2006-01-06  10.75  10.96  10.65  10.90  176139334  AAPL\n",
       "4  2006-01-09  10.96  11.03  10.82  10.86  168861224  AAPL"
      ]
     },
     "execution_count": 27,
     "metadata": {},
     "output_type": "execute_result"
    }
   ],
   "source": [
    "textData.head()"
   ]
  },
  {
   "cell_type": "code",
   "execution_count": 28,
   "id": "458eed2b",
   "metadata": {},
   "outputs": [
    {
     "name": "stderr",
     "output_type": "stream",
     "text": [
      "C:\\Users\\DMYTRO~1\\AppData\\Local\\Temp/ipykernel_6884/2009274178.py:1: FutureWarning: In a future version of pandas all arguments of DataFrame.drop except for the argument 'labels' will be keyword-only\n",
      "  textData = textData.drop(['Name'] ,1)\n"
     ]
    },
    {
     "data": {
      "text/html": [
       "<div>\n",
       "<style scoped>\n",
       "    .dataframe tbody tr th:only-of-type {\n",
       "        vertical-align: middle;\n",
       "    }\n",
       "\n",
       "    .dataframe tbody tr th {\n",
       "        vertical-align: top;\n",
       "    }\n",
       "\n",
       "    .dataframe thead th {\n",
       "        text-align: right;\n",
       "    }\n",
       "</style>\n",
       "<table border=\"1\" class=\"dataframe\">\n",
       "  <thead>\n",
       "    <tr style=\"text-align: right;\">\n",
       "      <th></th>\n",
       "      <th>Date</th>\n",
       "      <th>Open</th>\n",
       "      <th>High</th>\n",
       "      <th>Low</th>\n",
       "      <th>Close</th>\n",
       "      <th>Volume</th>\n",
       "    </tr>\n",
       "  </thead>\n",
       "  <tbody>\n",
       "    <tr>\n",
       "      <th>0</th>\n",
       "      <td>2006-01-03</td>\n",
       "      <td>10.34</td>\n",
       "      <td>10.68</td>\n",
       "      <td>10.32</td>\n",
       "      <td>10.68</td>\n",
       "      <td>201853036</td>\n",
       "    </tr>\n",
       "    <tr>\n",
       "      <th>1</th>\n",
       "      <td>2006-01-04</td>\n",
       "      <td>10.73</td>\n",
       "      <td>10.85</td>\n",
       "      <td>10.64</td>\n",
       "      <td>10.71</td>\n",
       "      <td>155225609</td>\n",
       "    </tr>\n",
       "    <tr>\n",
       "      <th>2</th>\n",
       "      <td>2006-01-05</td>\n",
       "      <td>10.69</td>\n",
       "      <td>10.70</td>\n",
       "      <td>10.54</td>\n",
       "      <td>10.63</td>\n",
       "      <td>112396081</td>\n",
       "    </tr>\n",
       "    <tr>\n",
       "      <th>3</th>\n",
       "      <td>2006-01-06</td>\n",
       "      <td>10.75</td>\n",
       "      <td>10.96</td>\n",
       "      <td>10.65</td>\n",
       "      <td>10.90</td>\n",
       "      <td>176139334</td>\n",
       "    </tr>\n",
       "    <tr>\n",
       "      <th>4</th>\n",
       "      <td>2006-01-09</td>\n",
       "      <td>10.96</td>\n",
       "      <td>11.03</td>\n",
       "      <td>10.82</td>\n",
       "      <td>10.86</td>\n",
       "      <td>168861224</td>\n",
       "    </tr>\n",
       "  </tbody>\n",
       "</table>\n",
       "</div>"
      ],
      "text/plain": [
       "         Date   Open   High    Low  Close     Volume\n",
       "0  2006-01-03  10.34  10.68  10.32  10.68  201853036\n",
       "1  2006-01-04  10.73  10.85  10.64  10.71  155225609\n",
       "2  2006-01-05  10.69  10.70  10.54  10.63  112396081\n",
       "3  2006-01-06  10.75  10.96  10.65  10.90  176139334\n",
       "4  2006-01-09  10.96  11.03  10.82  10.86  168861224"
      ]
     },
     "execution_count": 28,
     "metadata": {},
     "output_type": "execute_result"
    }
   ],
   "source": [
    "textData = textData.drop(['Name'] ,1)\n",
    "textData.head()"
   ]
  },
  {
   "cell_type": "code",
   "execution_count": 29,
   "id": "391508c3",
   "metadata": {},
   "outputs": [
    {
     "data": {
      "text/plain": [
       "<AxesSubplot:>"
      ]
     },
     "execution_count": 29,
     "metadata": {},
     "output_type": "execute_result"
    },
    {
     "data": {
      "image/png": "[encoded data removed]",
      "text/plain": [
       "<Figure size 1080x360 with 1 Axes>"
      ]
     },
     "metadata": {
      "needs_background": "light"
     },
     "output_type": "display_data"
    }
   ],
   "source": [
    "textData[['Open', 'High', 'Low', 'Close']].plot(figsize = (15, 5))"
   ]
  },
  {
   "cell_type": "code",
   "execution_count": 30,
   "id": "b88a3171",
   "metadata": {},
   "outputs": [
    {
     "name": "stderr",
     "output_type": "stream",
     "text": [
      "C:\\Users\\DMYTRO~1\\AppData\\Local\\Temp/ipykernel_6884/2062307323.py:1: FutureWarning: In a future version of pandas all arguments of DataFrame.drop except for the argument 'labels' will be keyword-only\n",
      "  X = textData.drop(['Date','Close'], 1);\n"
     ]
    }
   ],
   "source": [
    "X = textData.drop(['Date','Close'], 1);\n",
    "Y = textData['Close']"
   ]
  },
  {
   "cell_type": "code",
   "execution_count": 31,
   "id": "d61214c8",
   "metadata": {},
   "outputs": [],
   "source": [
    "X_train, X_test, Y_train, Y_test = train_test_split(X, Y, test_size = 0.3, random_state = 0)"
   ]
  },
  {
   "cell_type": "code",
   "execution_count": 32,
   "id": "226d30aa",
   "metadata": {},
   "outputs": [
    {
     "name": "stdout",
     "output_type": "stream",
     "text": [
      "Epoch 1/20\n",
      "67/67 [==============================] - 0s 620us/step - loss: 346494137794560.0000\n",
      "Epoch 2/20\n",
      "67/67 [==============================] - 0s 611us/step - loss: 65174035759104.0000\n",
      "Epoch 3/20\n",
      "67/67 [==============================] - 0s 604us/step - loss: 19580575547392.0000\n",
      "Epoch 4/20\n",
      "67/67 [==============================] - 0s 589us/step - loss: 8769623818240.0000\n",
      "Epoch 5/20\n",
      "67/67 [==============================] - 0s 589us/step - loss: 5428973404160.0000\n",
      "Epoch 6/20\n",
      "67/67 [==============================] - 0s 604us/step - loss: 3867608612864.0000\n",
      "Epoch 7/20\n",
      "67/67 [==============================] - 0s 589us/step - loss: 2039573774336.0000\n",
      "Epoch 8/20\n",
      "67/67 [==============================] - 0s 604us/step - loss: 1263350579200.0000\n",
      "Epoch 9/20\n",
      "67/67 [==============================] - 0s 696us/step - loss: 793636175872.0000\n",
      "Epoch 10/20\n",
      "67/67 [==============================] - 0s 604us/step - loss: 688809967616.0000\n",
      "Epoch 11/20\n",
      "67/67 [==============================] - 0s 589us/step - loss: 404562608128.0000\n",
      "Epoch 12/20\n",
      "67/67 [==============================] - 0s 589us/step - loss: 237665337344.0000\n",
      "Epoch 13/20\n",
      "67/67 [==============================] - 0s 604us/step - loss: 166212501504.0000\n",
      "Epoch 14/20\n",
      "67/67 [==============================] - 0s 604us/step - loss: 144663822336.0000\n",
      "Epoch 15/20\n",
      "67/67 [==============================] - 0s 589us/step - loss: 105073106944.0000\n",
      "Epoch 16/20\n",
      "67/67 [==============================] - 0s 604us/step - loss: 77678600192.0000\n",
      "Epoch 17/20\n",
      "67/67 [==============================] - 0s 604us/step - loss: 56301412352.0000\n",
      "Epoch 18/20\n",
      "67/67 [==============================] - 0s 604us/step - loss: 46385254400.0000\n",
      "Epoch 19/20\n",
      "67/67 [==============================] - 0s 589us/step - loss: 36968529920.0000\n",
      "Epoch 20/20\n",
      "67/67 [==============================] - 0s 589us/step - loss: 28689899520.0000\n"
     ]
    },
    {
     "data": {
      "text/plain": [
       "<keras.callbacks.History at 0x1bfbbd884f0>"
      ]
     },
     "execution_count": 32,
     "metadata": {},
     "output_type": "execute_result"
    }
   ],
   "source": [
    "model = Sequential()\n",
    "\n",
    "model.add(Dense(10))\n",
    "model.add(Flatten())\n",
    "model.add(Dense(13, activation = 'relu'))\n",
    "model.add(Flatten())\n",
    "model.add(Dropout(0.2))\n",
    "model.add(Dense(1))\n",
    "\n",
    "model.compile(loss = 'mean_squared_error', optimizer = 'adam')\n",
    "\n",
    "model.fit(X_train, Y_train, epochs = 20, batch_size = 32)"
   ]
  },
  {
   "cell_type": "code",
   "execution_count": 33,
   "id": "e5c02e27",
   "metadata": {},
   "outputs": [
    {
     "data": {
      "image/png": "[encoded data removed]",
      "text/plain": [
       "<Figure size 432x288 with 1 Axes>"
      ]
     },
     "metadata": {
      "needs_background": "light"
     },
     "output_type": "display_data"
    }
   ],
   "source": [
    "prediction = model.predict(X_test)\n",
    "\n",
    "plt.plot(Y_test, label = 'Test Data') \n",
    "plt.plot(prediction, label = 'Prediction') \n",
    "plt.legend()\n",
    "plt.show() "
   ]
  },
  {
   "cell_type": "code",
   "execution_count": null,
   "id": "c91de5ac",
   "metadata": {},
   "outputs": [],
   "source": []
  }
 ],
 "metadata": {
  "kernelspec": {
   "display_name": "Python 3 (ipykernel)",
   "language": "python",
   "name": "python3"
  },
  "language_info": {
   "codemirror_mode": {
    "name": "ipython",
    "version": 3
   },
   "file_extension": ".py",
   "mimetype": "text/x-python",
   "name": "python",
   "nbconvert_exporter": "python",
   "pygments_lexer": "ipython3",
   "version": "3.9.7"
  }
 },
 "nbformat": 4,
 "nbformat_minor": 5
}
