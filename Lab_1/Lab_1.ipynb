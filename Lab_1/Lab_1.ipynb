{
 "cells": [
  {
   "cell_type": "code",
   "execution_count": 1,
   "id": "b561d8e3",
   "metadata": {},
   "outputs": [],
   "source": [
    "import numpy as np\n",
    "import matplotlib.pyplot as plt\n",
    "import random"
   ]
  },
  {
   "cell_type": "markdown",
   "id": "d7eef84e",
   "metadata": {},
   "source": [
    "# Task 1"
   ]
  },
  {
   "cell_type": "code",
   "execution_count": 2,
   "id": "5b6a2e2c",
   "metadata": {},
   "outputs": [],
   "source": [
    "a = 5\n",
    "b = 5"
   ]
  },
  {
   "cell_type": "code",
   "execution_count": 3,
   "id": "c2992abd",
   "metadata": {},
   "outputs": [],
   "source": [
    "np.random.seed(50)\n",
    "size = 500\n",
    "\n",
    "noise = np.random.normal(0, 1, size)\n",
    "\n",
    "x = np.random.uniform(0, 1, size)\n",
    "y = a + b * x +  noise"
   ]
  },
  {
   "cell_type": "code",
   "execution_count": 4,
   "id": "61809288",
   "metadata": {},
   "outputs": [
    {
     "data": {
      "image/png": "[encoded data removed]",
      "text/plain": [
       "<Figure size 432x288 with 1 Axes>"
      ]
     },
     "metadata": {
      "needs_background": "light"
     },
     "output_type": "display_data"
    }
   ],
   "source": [
    "plt.scatter(x, y, color = 'red', marker = '.', label = 'dot')\n",
    "plt.plot(x, a * x + b)\n",
    "plt.xlabel('X')\n",
    "plt.ylabel('Y')\n",
    "plt.legend()\n",
    "plt.show()"
   ]
  },
  {
   "cell_type": "markdown",
   "id": "b330d46a",
   "metadata": {},
   "source": [
    "## Gradient Descent"
   ]
  },
  {
   "cell_type": "code",
   "execution_count": 5,
   "id": "178deee6",
   "metadata": {},
   "outputs": [],
   "source": [
    "a_current = random.randint(0, 100)\n",
    "b_current = random.randint(0, 100)\n",
    "lr = 0.01\n",
    "iter_amount = 10000\n",
    "\n",
    "for i in range(iter_amount):\n",
    "    y_new = a_current + b_current * x\n",
    "    loss = y - y_new\n",
    "    a_new = -2 * loss.mean()\n",
    "    b_new = -2 * (x * loss).mean()\n",
    "    a_current = a_current - lr * a_new\n",
    "    b_current = b_current - lr * b_new"
   ]
  },
  {
   "cell_type": "code",
   "execution_count": 6,
   "id": "3fe279d0",
   "metadata": {},
   "outputs": [
    {
     "name": "stdout",
     "output_type": "stream",
     "text": [
      "Selected parameters: a = 4.999193371056187 , b = 4.841946121735204\n",
      "Initial parameters for generating: a = 5 , b = 5\n",
      "The parameters received: a = 4.999193371056187 , b = 4.841946121735204\n"
     ]
    }
   ],
   "source": [
    "print(\"Selected parameters:\", 'a =', a_current, ',', 'b =', b_current)\n",
    "print(\"Initial parameters for generating:\", 'a =', a, ',', 'b =', b)\n",
    "print(\"The parameters received:\", 'a =', a_current, ',', 'b =', b_current)"
   ]
  },
  {
   "cell_type": "code",
   "execution_count": 7,
   "id": "74cbbae6",
   "metadata": {},
   "outputs": [
    {
     "name": "stdout",
     "output_type": "stream",
     "text": [
      "Actual result === Expected result\n"
     ]
    }
   ],
   "source": [
    "epsilon = 0.2\n",
    "if abs(a_current - a) < epsilon and abs(b_current - b) < epsilon:\n",
    "    print(\"Actual result === Expected result\")\n",
    "else:\n",
    "    print(\"Error\")"
   ]
  },
  {
   "cell_type": "markdown",
   "id": "b6afbfa2",
   "metadata": {},
   "source": [
    "# Task 2"
   ]
  },
  {
   "cell_type": "code",
   "execution_count": 8,
   "id": "91b30485",
   "metadata": {},
   "outputs": [],
   "source": [
    "np.random.seed(50)\n",
    "size = 100"
   ]
  },
  {
   "cell_type": "code",
   "execution_count": 9,
   "id": "92b02b6a",
   "metadata": {},
   "outputs": [],
   "source": [
    "mean_1 = [1, 2]\n",
    "cov_1 = [[1, 0], [0, 1]]\n",
    "x_1 = np.random.multivariate_normal(mean_1, cov_1, size)"
   ]
  },
  {
   "cell_type": "code",
   "execution_count": 10,
   "id": "3d4000fc",
   "metadata": {},
   "outputs": [],
   "source": [
    "mean_2 = [4, 5]\n",
    "cov_2 = [[2, 0], [0, 2]]\n",
    "x_2 = np.random.multivariate_normal(mean_2, cov_2, size)"
   ]
  },
  {
   "cell_type": "code",
   "execution_count": 11,
   "id": "6b9d903d",
   "metadata": {},
   "outputs": [
    {
     "data": {
      "text/plain": [
       "<matplotlib.collections.PathCollection at 0x1d3d9127c40>"
      ]
     },
     "execution_count": 11,
     "metadata": {},
     "output_type": "execute_result"
    },
    {
     "data": {
      "image/png": "[encoded data removed]",
      "text/plain": [
       "<Figure size 432x288 with 1 Axes>"
      ]
     },
     "metadata": {
      "needs_background": "light"
     },
     "output_type": "display_data"
    }
   ],
   "source": [
    "plt.scatter(x_1[:, 0], x_1[:, 1], marker = '.', color = 'red')\n",
    "plt.scatter(x_2[:, 0], x_2[:, 1], marker = '.', color = 'green')"
   ]
  },
  {
   "cell_type": "code",
   "execution_count": 12,
   "id": "01b39e46",
   "metadata": {},
   "outputs": [],
   "source": [
    "X = np.concatenate([x_1, x_2])\n",
    "Y = np.array([0] * size + [1] *  size)"
   ]
  },
  {
   "cell_type": "code",
   "execution_count": 13,
   "id": "733a6e23",
   "metadata": {},
   "outputs": [],
   "source": [
    "#random.shuffle(Y)\n",
    "X_train, X_test = X[:150,:], X[50:,:]\n",
    "Y_train, Y_test = Y[:150], Y[50:]"
   ]
  },
  {
   "cell_type": "markdown",
   "id": "57618d54",
   "metadata": {},
   "source": [
    "## Logistic Regression"
   ]
  },
  {
   "cell_type": "code",
   "execution_count": 14,
   "id": "e18387d8",
   "metadata": {},
   "outputs": [],
   "source": [
    "class LogisticRegression:\n",
    "    def __init__( self, learning_rate, iterations ) :\n",
    "        self.learning_rate = learning_rate\n",
    "        self.iterations = iterations\n",
    "\n",
    "    def fit( self, X, Y ) :\n",
    "        self.m, self.n = X.shape\n",
    "        self.W = np.zeros( self.n )\n",
    "        self.b = 0\n",
    "        self.X = X\n",
    "        self.Y = Y\n",
    "        for i in range( self.iterations ) :\n",
    "            A = 1 / ( 1 + np.exp( - ( self.X.dot( self.W ) + self.b ) ) )\n",
    "            tmp = ( A - self.Y.T )\n",
    "            tmp = np.reshape( tmp, self.m )\n",
    "            dW = np.dot( self.X.T, tmp ) / self.m\n",
    "            db = np.sum( tmp ) / self.m\n",
    "            self.W = self.W - self.learning_rate * dW\n",
    "            self.b = self.b - self.learning_rate * db\n",
    "        return self\n",
    "    def predict( self, X ) :\n",
    "        Z = 1 / ( 1 + np.exp( - ( X.dot( self.W ) + self.b ) ) )\n",
    "        Y = np.where( Z > 0.5, 1, 0 )\n",
    "        return Y"
   ]
  },
  {
   "cell_type": "code",
   "execution_count": 15,
   "id": "fc09ba39",
   "metadata": {},
   "outputs": [
    {
     "data": {
      "text/plain": [
       "<__main__.LogisticRegression at 0x1d3d91b7460>"
      ]
     },
     "execution_count": 15,
     "metadata": {},
     "output_type": "execute_result"
    }
   ],
   "source": [
    "lr = 0.01 \n",
    "iter_amount = 10000\n",
    "model = LogisticRegression( lr, iter_amount )\n",
    "model.fit( X_train, Y_train )"
   ]
  },
  {
   "cell_type": "code",
   "execution_count": 16,
   "id": "9bf44031",
   "metadata": {},
   "outputs": [],
   "source": [
    "Y_pred = model.predict( X_test )"
   ]
  },
  {
   "cell_type": "code",
   "execution_count": 17,
   "id": "d28e25b5",
   "metadata": {},
   "outputs": [],
   "source": [
    "correctly_classified = 0\n",
    "count = 0\n",
    "for count in range( np.size( Y_pred ) ) :\n",
    "    if Y_test[count] == Y_pred[count] :\n",
    "        correctly_classified = correctly_classified + 1\n",
    "    count = count + 1"
   ]
  },
  {
   "cell_type": "code",
   "execution_count": 18,
   "id": "d07e3c39",
   "metadata": {},
   "outputs": [
    {
     "name": "stdout",
     "output_type": "stream",
     "text": [
      "Accuracy: 95.33333333333334\n"
     ]
    }
   ],
   "source": [
    "print( \"Accuracy:\", (correctly_classified / count ) * 100 )"
   ]
  }
 ],
 "metadata": {
  "kernelspec": {
   "display_name": "Python 3 (ipykernel)",
   "language": "python",
   "name": "python3"
  },
  "language_info": {
   "codemirror_mode": {
    "name": "ipython",
    "version": 3
   },
   "file_extension": ".py",
   "mimetype": "text/x-python",
   "name": "python",
   "nbconvert_exporter": "python",
   "pygments_lexer": "ipython3",
   "version": "3.9.7"
  }
 },
 "nbformat": 4,
 "nbformat_minor": 5
}
